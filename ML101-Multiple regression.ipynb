{
 "cells": [
  {
   "cell_type": "markdown",
   "id": "36cf9c8c",
   "metadata": {},
   "source": [
    "# Import modules & Libraries"
   ]
  },
  {
   "cell_type": "code",
   "execution_count": 1,
   "id": "d7ddbeb4",
   "metadata": {},
   "outputs": [],
   "source": [
    "import pandas as pd\n",
    "import matplotlib.pyplot as plt\n",
    "import numpy as np\n",
    "import seaborn as sns"
   ]
  },
  {
   "cell_type": "markdown",
   "id": "9f600623",
   "metadata": {},
   "source": [
    "## Getting Data"
   ]
  },
  {
   "cell_type": "code",
   "execution_count": 2,
   "id": "55273cde",
   "metadata": {},
   "outputs": [
    {
     "data": {
      "text/plain": [
       "\" We'll use bike rental dataset to predict the number of bike rental using 2 features\\nData Source: https://aka.ms/bike-rentals\""
      ]
     },
     "execution_count": 2,
     "metadata": {},
     "output_type": "execute_result"
    }
   ],
   "source": [
    "\"\"\" We'll use bike rental dataset to predict the number of bike rental using 2 features\n",
    "Data Source: https://aka.ms/bike-rentals\"\"\""
   ]
  },
  {
   "cell_type": "code",
   "execution_count": 3,
   "id": "ca84e0b2",
   "metadata": {},
   "outputs": [],
   "source": [
    "data = pd.read_csv(\"daily-bike-share.csv\")"
   ]
  },
  {
   "cell_type": "markdown",
   "id": "ba593667",
   "metadata": {},
   "source": [
    "# Model"
   ]
  },
  {
   "cell_type": "code",
   "execution_count": 4,
   "id": "a44c9b9f",
   "metadata": {},
   "outputs": [
    {
     "data": {
      "text/plain": [
       "' With a Matrix representation --> F(X) = X*THETA'"
      ]
     },
     "execution_count": 4,
     "metadata": {},
     "output_type": "execute_result"
    }
   ],
   "source": [
    "\"\"\" With a Matrix representation --> F(X) = X*THETA\"\"\""
   ]
  },
  {
   "cell_type": "code",
   "execution_count": 5,
   "id": "80a3508e",
   "metadata": {},
   "outputs": [],
   "source": [
    "def model(X, THETA):\n",
    "    return X.dot(THETA)"
   ]
  },
  {
   "cell_type": "markdown",
   "id": "05b8b317",
   "metadata": {},
   "source": [
    "# MSE "
   ]
  },
  {
   "cell_type": "code",
   "execution_count": 6,
   "id": "d31bc6c5",
   "metadata": {},
   "outputs": [],
   "source": [
    "def MSE(X, Y, THETA):\n",
    "    return 1/(2*len(Y))*np.sum((X.dot(THETA)-Y)**2)"
   ]
  },
  {
   "cell_type": "markdown",
   "id": "573cb4f8",
   "metadata": {},
   "source": [
    "# Gradient"
   ]
  },
  {
   "cell_type": "code",
   "execution_count": 7,
   "id": "43029c57",
   "metadata": {},
   "outputs": [],
   "source": [
    "def grad(X, Y, THETA):\n",
    "    return 1/len(Y) * X.T.dot(model(X,THETA)-Y)"
   ]
  },
  {
   "cell_type": "markdown",
   "id": "4f9ea514",
   "metadata": {},
   "source": [
    "# Gradient Descent"
   ]
  },
  {
   "cell_type": "code",
   "execution_count": 8,
   "id": "69e67de2",
   "metadata": {},
   "outputs": [],
   "source": [
    "def gradient_descent(X, Y, THETA, Alpha, itt):\n",
    "    cost_history = np.ones(itt)\n",
    "    for i in range(itt):\n",
    "        THETA = THETA - Alpha * grad(X,Y,THETA)\n",
    "        cost_history[i] = MSE(X, Y, THETA)\n",
    "    return THETA, cost_history"
   ]
  },
  {
   "cell_type": "markdown",
   "id": "7b9a4571",
   "metadata": {},
   "source": [
    "# Coefficient of Determination R2"
   ]
  },
  {
   "cell_type": "code",
   "execution_count": 9,
   "id": "1987e6a9",
   "metadata": {},
   "outputs": [],
   "source": [
    "def R2(pred, Y):\n",
    "    u = ((Y-pred)**2).sum()\n",
    "    v = ((Y-Y.mean())**2).sum()\n",
    "    return 1-u/v"
   ]
  },
  {
   "cell_type": "markdown",
   "id": "b4ee8452",
   "metadata": {},
   "source": [
    "# Training & Parameters "
   ]
  },
  {
   "cell_type": "code",
   "execution_count": 41,
   "id": "a5c4131f",
   "metadata": {},
   "outputs": [
    {
     "name": "stdout",
     "output_type": "stream",
     "text": [
      "(731, 3) (731, 1)\n"
     ]
    }
   ],
   "source": [
    "X1 = np.array(data.iloc[:,8:10])\n",
    "Y = np.array(data.iloc[:,-1])\n",
    "Y = Y.reshape(X1.shape[0],1)\n",
    "X = np.hstack((X1,np.ones(Y.shape)))\n",
    "print(X.shape,Y.shape)\n",
    "THETA = np.random.randn(3,1)"
   ]
  },
  {
   "cell_type": "code",
   "execution_count": 42,
   "id": "11b5b19f",
   "metadata": {},
   "outputs": [],
   "source": [
    "itterations = 1000\n",
    "alpha = 0.05"
   ]
  },
  {
   "cell_type": "code",
   "execution_count": 43,
   "id": "bf76068c",
   "metadata": {},
   "outputs": [],
   "source": [
    "theta, COST = gradient_descent(X,Y,THETA,alpha,itterations)\n",
    "prediction = model(X,theta)"
   ]
  },
  {
   "cell_type": "code",
   "execution_count": 44,
   "id": "95962f4c",
   "metadata": {},
   "outputs": [
    {
     "data": {
      "text/plain": [
       "[<matplotlib.lines.Line2D at 0x24eeda956d0>]"
      ]
     },
     "execution_count": 44,
     "metadata": {},
     "output_type": "execute_result"
    },
    {
     "data": {
      "image/png": "[encoded data removed]",
      "text/plain": [
       "<Figure size 640x480 with 1 Axes>"
      ]
     },
     "metadata": {},
     "output_type": "display_data"
    }
   ],
   "source": [
    "plt.plot(range(itterations), COST)"
   ]
  },
  {
   "cell_type": "markdown",
   "id": "2016dcd5",
   "metadata": {},
   "source": [
    "# Evaluation"
   ]
  },
  {
   "cell_type": "code",
   "execution_count": 46,
   "id": "3856d71c",
   "metadata": {},
   "outputs": [
    {
     "name": "stdout",
     "output_type": "stream",
     "text": [
      "R2 :  0.29380337401349454\n"
     ]
    }
   ],
   "source": [
    "print(\"R2 : \" ,R2(prediction,Y))\n",
    "### Next step : enhancing the model (knowing that there isn't a strong relation between the feature and the target -- regression)"
   ]
  },
  {
   "cell_type": "code",
   "execution_count": null,
   "id": "89e7d739",
   "metadata": {},
   "outputs": [],
   "source": []
  }
 ],
 "metadata": {
  "kernelspec": {
   "display_name": "Python 3 (ipykernel)",
   "language": "python",
   "name": "python3"
  },
  "language_info": {
   "codemirror_mode": {
    "name": "ipython",
    "version": 3
   },
   "file_extension": ".py",
   "mimetype": "text/x-python",
   "name": "python",
   "nbconvert_exporter": "python",
   "pygments_lexer": "ipython3",
   "version": "3.9.13"
  }
 },
 "nbformat": 4,
 "nbformat_minor": 5
}
